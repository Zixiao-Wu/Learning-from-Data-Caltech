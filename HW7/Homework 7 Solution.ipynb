{
 "cells": [
  {
   "cell_type": "markdown",
   "id": "c796386a",
   "metadata": {},
   "source": [
    "# Learning From Data HW7"
   ]
  },
  {
   "cell_type": "code",
   "execution_count": 1,
   "id": "f78969ca",
   "metadata": {},
   "outputs": [],
   "source": [
    "import numpy as np\n",
    "import sklearn as sk\n",
    "from sklearn.model_selection import train_test_split\n",
    "from sklearn.linear_model import LinearRegression\n",
    "from sklearn.metrics import mean_squared_error\n",
    "import matplotlib.pyplot as plt"
   ]
  },
  {
   "cell_type": "markdown",
   "id": "8bac756d",
   "metadata": {},
   "source": [
    "## 1 Validation"
   ]
  },
  {
   "cell_type": "code",
   "execution_count": 2,
   "id": "8ef27723",
   "metadata": {},
   "outputs": [],
   "source": [
    "data = np.loadtxt('../HW6/in.dta')\n",
    "X, y = data[:,:2], data[:,2]\n",
    "\n",
    "data_test = np.loadtxt('../HW6/out.dta')\n",
    "X_test, y_test = data_test[:,:2], data_test[:,2]"
   ]
  },
  {
   "cell_type": "code",
   "execution_count": 3,
   "id": "6901a1b2",
   "metadata": {},
   "outputs": [],
   "source": [
    "X_train, X_val, y_train, y_val = train_test_split(X, y, train_size=25, shuffle=False)"
   ]
  },
  {
   "cell_type": "code",
   "execution_count": 11,
   "id": "7bb3f20d",
   "metadata": {},
   "outputs": [],
   "source": [
    "phis = [\n",
    "    lambda X: np.ones((X.shape[0],1)),\n",
    "    lambda X: X[:,0],\n",
    "    lambda X: X[:,1],\n",
    "    lambda X: X[:,0]**2,\n",
    "    lambda X: X[:,1]**2,\n",
    "    lambda X: X[:,0]*X[:,1],\n",
    "    lambda X: np.abs(X[:,0] - X[:,1]),\n",
    "    lambda X: np.abs(X[:,0] + X[:,1]),\n",
    "]\n",
    "\n",
    "Zs = lambda k: lambda X: np.column_stack([phi(X) for phi in phis[:k+1]])"
   ]
  },
  {
   "cell_type": "code",
   "execution_count": 12,
   "id": "508904f7",
   "metadata": {},
   "outputs": [
    {
     "name": "stdout",
     "output_type": "stream",
     "text": [
      "k= 0 validation classification error: 0.4\n",
      "k= 1 validation classification error: 0.5\n",
      "k= 2 validation classification error: 0.7\n",
      "k= 3 validation classification error: 0.3\n",
      "k= 4 validation classification error: 0.5\n",
      "k= 5 validation classification error: 0.2\n",
      "k= 6 validation classification error: 0.0\n",
      "k= 7 validation classification error: 0.1\n"
     ]
    }
   ],
   "source": [
    "for k in range(8):\n",
    "    reg = LinearRegression(fit_intercept=False).fit(Zs(k)(X_train), y_train)\n",
    "    y_val_pred = np.sign(reg.predict(Zs(k)(X_val)))\n",
    "    print(\"k=\", k, \"validation classification error:\", np.mean(y_val_pred != y_val))"
   ]
  },
  {
   "cell_type": "markdown",
   "id": "8400944f",
   "metadata": {},
   "source": [
    "When k = 6, the error is smallest, d"
   ]
  },
  {
   "cell_type": "code",
   "execution_count": 13,
   "id": "ab3a7c3a",
   "metadata": {},
   "outputs": [
    {
     "name": "stdout",
     "output_type": "stream",
     "text": [
      "k= 0 test classification error: 0.472\n",
      "k= 1 test classification error: 0.488\n",
      "k= 2 test classification error: 0.648\n",
      "k= 3 test classification error: 0.42\n",
      "k= 4 test classification error: 0.416\n",
      "k= 5 test classification error: 0.188\n",
      "k= 6 test classification error: 0.084\n",
      "k= 7 test classification error: 0.072\n"
     ]
    }
   ],
   "source": [
    "for k in range(8):\n",
    "    reg2 = LinearRegression(fit_intercept=False).fit(Zs(k)(X_train), y_train)\n",
    "    y_test_pred = np.sign(reg2.predict(Zs(k)(X_test)))\n",
    "    print(\"k=\", k, \"test classification error:\", np.mean(y_test_pred != y_test))"
   ]
  },
  {
   "cell_type": "markdown",
   "id": "382db5bc",
   "metadata": {},
   "source": [
    "When k = 7, the out-of-sample error is the smallest, e."
   ]
  },
  {
   "cell_type": "code",
   "execution_count": 14,
   "id": "a99a7177",
   "metadata": {},
   "outputs": [
    {
     "name": "stdout",
     "output_type": "stream",
     "text": [
      "k= 0 validation classification error: 0.44\n",
      "k= 1 validation classification error: 0.44\n",
      "k= 2 validation classification error: 0.44\n",
      "k= 3 validation classification error: 0.28\n",
      "k= 4 validation classification error: 0.36\n",
      "k= 5 validation classification error: 0.2\n",
      "k= 6 validation classification error: 0.08\n",
      "k= 7 validation classification error: 0.12\n"
     ]
    }
   ],
   "source": [
    "X_train, X_val, y_train, y_val = X_val, X_train, y_val, y_train\n",
    "\n",
    "for k in range(8):\n",
    "    reg3 = LinearRegression(fit_intercept=False).fit(Zs(k)(X_train), y_train)\n",
    "    y_val_pred = np.sign(reg3.predict(Zs(k)(X_val)))\n",
    "    print(\"k=\", k, \"validation classification error:\", np.mean(y_val_pred != y_val))\n",
    "\n",
    "# Swap validation and training data back again\n",
    "X_val, X_train, y_val, y_train = X_train, X_val, y_train, y_val"
   ]
  },
  {
   "cell_type": "markdown",
   "id": "b3e91234",
   "metadata": {},
   "source": [
    "Also when k = 6, the classification error on the validation set is smallest."
   ]
  },
  {
   "cell_type": "code",
   "execution_count": 15,
   "id": "2af81dab",
   "metadata": {},
   "outputs": [
    {
     "name": "stdout",
     "output_type": "stream",
     "text": [
      "k= 0 test classification error: 0.472\n",
      "k= 1 test classification error: 0.472\n",
      "k= 2 test classification error: 0.5\n",
      "k= 3 test classification error: 0.396\n",
      "k= 4 test classification error: 0.388\n",
      "k= 5 test classification error: 0.284\n",
      "k= 6 test classification error: 0.192\n",
      "k= 7 test classification error: 0.196\n"
     ]
    }
   ],
   "source": [
    "X_train, X_val, y_train, y_val = X_val, X_train, y_val, y_train\n",
    "\n",
    "for k in range(8):\n",
    "    reg4 = LinearRegression(fit_intercept=False).fit(Zs(k)(X_train), y_train)\n",
    "    y_test_pred = np.sign(reg4.predict(Zs(k)(X_test)))\n",
    "    print(\"k=\", k, \"test classification error:\", np.mean(y_test_pred != y_test))\n",
    "\n",
    "# Swap validation and training data back again\n",
    "X_val, X_train, y_val, y_train = X_train, X_val, y_train, y_val"
   ]
  },
  {
   "cell_type": "markdown",
   "id": "894697bd",
   "metadata": {},
   "source": [
    "So when k = 6, the out of sample is the smallest. "
   ]
  },
  {
   "cell_type": "markdown",
   "id": "4cd1f4c1",
   "metadata": {},
   "source": [
    "When k = 6, two models have a error near 0.1 and 0.2."
   ]
  },
  {
   "cell_type": "markdown",
   "id": "b3064ba8",
   "metadata": {},
   "source": [
    "## 6 Validation Bias"
   ]
  },
  {
   "cell_type": "code",
   "execution_count": 17,
   "id": "3fc26046",
   "metadata": {},
   "outputs": [
    {
     "data": {
      "text/plain": [
       "0.33191148989257135"
      ]
     },
     "execution_count": 17,
     "metadata": {},
     "output_type": "execute_result"
    }
   ],
   "source": [
    "es = np.random.rand(100000, 2)\n",
    "e = np.min(es, axis=1)\n",
    "np.mean(e)"
   ]
  },
  {
   "cell_type": "markdown",
   "id": "d4a2395c",
   "metadata": {},
   "source": [
    "So the expected value is 0.5, 0.5, 0.33, near d."
   ]
  },
  {
   "cell_type": "markdown",
   "id": "2e33acc9",
   "metadata": {},
   "source": [
    "## 7 Cross Validation"
   ]
  },
  {
   "cell_type": "markdown",
   "id": "f71b5e23",
   "metadata": {},
   "source": [
    "The answer isd, but I do not know clearly why."
   ]
  },
  {
   "cell_type": "markdown",
   "id": "af114acc",
   "metadata": {},
   "source": [
    "## 8 PLA vs. SVM"
   ]
  },
  {
   "cell_type": "markdown",
   "id": "f713dbae",
   "metadata": {},
   "source": [
    "## Intermission: Solving quadratic optimization problems with cvxopt"
   ]
  },
  {
   "cell_type": "code",
   "execution_count": 4,
   "id": "6aa00e72",
   "metadata": {},
   "outputs": [
    {
     "name": "stdout",
     "output_type": "stream",
     "text": [
      "Help on package cvxopt:\n",
      "\n",
      "NAME\n",
      "    cvxopt - Python package for convex optimization\n",
      "\n",
      "DESCRIPTION\n",
      "    CVXOPT is a free software package for convex optimization based on the \n",
      "    Python programming language. It can be used with the interactive Python \n",
      "    interpreter, on the command line by executing Python scripts, or \n",
      "    integrated in other software via Python extension modules. Its main \n",
      "    purpose is to make the development of software for convex optimization \n",
      "    applications straightforward by building on Python's extensive standard \n",
      "    library and on the strengths of Python as a high-level programming \n",
      "    language.\n",
      "\n",
      "PACKAGE CONTENTS\n",
      "    _version\n",
      "    amd\n",
      "    base\n",
      "    blas\n",
      "    cholmod\n",
      "    coneprog\n",
      "    cvxprog\n",
      "    dsdp\n",
      "    fftw\n",
      "    glpk\n",
      "    gsl\n",
      "    info\n",
      "    lapack\n",
      "    misc\n",
      "    misc_solvers\n",
      "    modeling\n",
      "    msk\n",
      "    printing\n",
      "    solvers\n",
      "    umfpack\n",
      "\n",
      "CLASSES\n",
      "    builtins.object\n",
      "        cvxopt.base.matrix\n",
      "        cvxopt.base.spmatrix\n",
      "    \n",
      "    class matrix(builtins.object)\n",
      "     |  Methods defined here:\n",
      "     |  \n",
      "     |  __abs__(self, /)\n",
      "     |      abs(self)\n",
      "     |  \n",
      "     |  __add__(self, value, /)\n",
      "     |      Return self+value.\n",
      "     |  \n",
      "     |  __bool__(self, /)\n",
      "     |      True if self else False\n",
      "     |  \n",
      "     |  __delitem__(self, key, /)\n",
      "     |      Delete self[key].\n",
      "     |  \n",
      "     |  __eq__(self, value, /)\n",
      "     |      Return self==value.\n",
      "     |  \n",
      "     |  __ge__(self, value, /)\n",
      "     |      Return self>=value.\n",
      "     |  \n",
      "     |  __getitem__(self, key, /)\n",
      "     |      Return self[key].\n",
      "     |  \n",
      "     |  __gt__(self, value, /)\n",
      "     |      Return self>value.\n",
      "     |  \n",
      "     |  __iadd__(self, value, /)\n",
      "     |      Return self+=value.\n",
      "     |  \n",
      "     |  __imod__(self, value, /)\n",
      "     |      Return self%=value.\n",
      "     |  \n",
      "     |  __imul__(self, value, /)\n",
      "     |      Return self*=value.\n",
      "     |  \n",
      "     |  __isub__(self, value, /)\n",
      "     |      Return self-=value.\n",
      "     |  \n",
      "     |  __iter__(self, /)\n",
      "     |      Implement iter(self).\n",
      "     |  \n",
      "     |  __itruediv__(self, value, /)\n",
      "     |      Return self/=value.\n",
      "     |  \n",
      "     |  __le__(self, value, /)\n",
      "     |      Return self<=value.\n",
      "     |  \n",
      "     |  __len__(self, /)\n",
      "     |      Return len(self).\n",
      "     |  \n",
      "     |  __lt__(self, value, /)\n",
      "     |      Return self<value.\n",
      "     |  \n",
      "     |  __mod__(self, value, /)\n",
      "     |      Return self%value.\n",
      "     |  \n",
      "     |  __mul__(self, value, /)\n",
      "     |      Return self*value.\n",
      "     |  \n",
      "     |  __ne__(self, value, /)\n",
      "     |      Return self!=value.\n",
      "     |  \n",
      "     |  __neg__(self, /)\n",
      "     |      -self\n",
      "     |  \n",
      "     |  __pos__(self, /)\n",
      "     |      +self\n",
      "     |  \n",
      "     |  __pow__(self, value, mod=None, /)\n",
      "     |      Return pow(self, value, mod).\n",
      "     |  \n",
      "     |  __radd__(self, value, /)\n",
      "     |      Return value+self.\n",
      "     |  \n",
      "     |  __reduce__(...)\n",
      "     |      __reduce__() -> (cls, state)\n",
      "     |  \n",
      "     |  __repr__(self, /)\n",
      "     |      Return repr(self).\n",
      "     |  \n",
      "     |  __rmod__(self, value, /)\n",
      "     |      Return value%self.\n",
      "     |  \n",
      "     |  __rmul__(self, value, /)\n",
      "     |      Return value*self.\n",
      "     |  \n",
      "     |  __rpow__(self, value, mod=None, /)\n",
      "     |      Return pow(value, self, mod).\n",
      "     |  \n",
      "     |  __rsub__(self, value, /)\n",
      "     |      Return value-self.\n",
      "     |  \n",
      "     |  __rtruediv__(self, value, /)\n",
      "     |      Return value/self.\n",
      "     |  \n",
      "     |  __setitem__(self, key, value, /)\n",
      "     |      Set self[key] to value.\n",
      "     |  \n",
      "     |  __str__(self, /)\n",
      "     |      Return str(self).\n",
      "     |  \n",
      "     |  __sub__(self, value, /)\n",
      "     |      Return self-value.\n",
      "     |  \n",
      "     |  __truediv__(self, value, /)\n",
      "     |      Return self/value.\n",
      "     |  \n",
      "     |  ctrans(...)\n",
      "     |      Returns the matrix conjugate transpose\n",
      "     |  \n",
      "     |  fromfile(...)\n",
      "     |      Reads a matrix from file\n",
      "     |      \n",
      "     |      ARGUMENTS\n",
      "     |      s          a Python stream object, for example obtained by open()\n",
      "     |  \n",
      "     |  imag(...)\n",
      "     |      Returns imaginary part of matrix\n",
      "     |  \n",
      "     |  real(...)\n",
      "     |      Returns real part of matrix\n",
      "     |  \n",
      "     |  tofile(...)\n",
      "     |      Writes a matrix to file\n",
      "     |      \n",
      "     |      ARGUMENTS\n",
      "     |      s          a Python stream object, for example obtained by open()\n",
      "     |  \n",
      "     |  trans(...)\n",
      "     |      Returns the matrix transpose\n",
      "     |  \n",
      "     |  ----------------------------------------------------------------------\n",
      "     |  Static methods defined here:\n",
      "     |  \n",
      "     |  __new__(*args, **kwargs) from builtins.type\n",
      "     |      Create and return a new object.  See help(type) for accurate signature.\n",
      "     |  \n",
      "     |  ----------------------------------------------------------------------\n",
      "     |  Data descriptors defined here:\n",
      "     |  \n",
      "     |  H\n",
      "     |      conjugate transpose\n",
      "     |  \n",
      "     |  T\n",
      "     |      transpose\n",
      "     |  \n",
      "     |  size\n",
      "     |      matrix dimensions\n",
      "     |  \n",
      "     |  typecode\n",
      "     |      typecode character\n",
      "     |  \n",
      "     |  ----------------------------------------------------------------------\n",
      "     |  Data and other attributes defined here:\n",
      "     |  \n",
      "     |  __hash__ = None\n",
      "    \n",
      "    class spmatrix(builtins.object)\n",
      "     |  Methods defined here:\n",
      "     |  \n",
      "     |  __abs__(self, /)\n",
      "     |      abs(self)\n",
      "     |  \n",
      "     |  __add__(self, value, /)\n",
      "     |      Return self+value.\n",
      "     |  \n",
      "     |  __bool__(self, /)\n",
      "     |      True if self else False\n",
      "     |  \n",
      "     |  __delitem__(self, key, /)\n",
      "     |      Delete self[key].\n",
      "     |  \n",
      "     |  __eq__(self, value, /)\n",
      "     |      Return self==value.\n",
      "     |  \n",
      "     |  __ge__(self, value, /)\n",
      "     |      Return self>=value.\n",
      "     |  \n",
      "     |  __getitem__(self, key, /)\n",
      "     |      Return self[key].\n",
      "     |  \n",
      "     |  __gt__(self, value, /)\n",
      "     |      Return self>value.\n",
      "     |  \n",
      "     |  __iadd__(self, value, /)\n",
      "     |      Return self+=value.\n",
      "     |  \n",
      "     |  __imul__(self, value, /)\n",
      "     |      Return self*=value.\n",
      "     |  \n",
      "     |  __isub__(self, value, /)\n",
      "     |      Return self-=value.\n",
      "     |  \n",
      "     |  __iter__(self, /)\n",
      "     |      Implement iter(self).\n",
      "     |  \n",
      "     |  __itruediv__(self, value, /)\n",
      "     |      Return self/=value.\n",
      "     |  \n",
      "     |  __le__(self, value, /)\n",
      "     |      Return self<=value.\n",
      "     |  \n",
      "     |  __len__(self, /)\n",
      "     |      Return len(self).\n",
      "     |  \n",
      "     |  __lt__(self, value, /)\n",
      "     |      Return self<value.\n",
      "     |  \n",
      "     |  __mul__(self, value, /)\n",
      "     |      Return self*value.\n",
      "     |  \n",
      "     |  __ne__(self, value, /)\n",
      "     |      Return self!=value.\n",
      "     |  \n",
      "     |  __neg__(self, /)\n",
      "     |      -self\n",
      "     |  \n",
      "     |  __pos__(self, /)\n",
      "     |      +self\n",
      "     |  \n",
      "     |  __radd__(self, value, /)\n",
      "     |      Return value+self.\n",
      "     |  \n",
      "     |  __reduce__(...)\n",
      "     |      __reduce__() -> (cls, state)\n",
      "     |  \n",
      "     |  __repr__(self, /)\n",
      "     |      Return repr(self).\n",
      "     |  \n",
      "     |  __rmul__(self, value, /)\n",
      "     |      Return value*self.\n",
      "     |  \n",
      "     |  __rsub__(self, value, /)\n",
      "     |      Return value-self.\n",
      "     |  \n",
      "     |  __rtruediv__(self, value, /)\n",
      "     |      Return value/self.\n",
      "     |  \n",
      "     |  __setitem__(self, key, value, /)\n",
      "     |      Set self[key] to value.\n",
      "     |  \n",
      "     |  __str__(self, /)\n",
      "     |      Return str(self).\n",
      "     |  \n",
      "     |  __sub__(self, value, /)\n",
      "     |      Return self-value.\n",
      "     |  \n",
      "     |  __truediv__(self, value, /)\n",
      "     |      Return self/value.\n",
      "     |  \n",
      "     |  ctrans(...)\n",
      "     |      Returns the matrix conjugate transpose\n",
      "     |  \n",
      "     |  imag(...)\n",
      "     |      Returns imaginary part of sparse matrix\n",
      "     |  \n",
      "     |  real(...)\n",
      "     |      Returns real part of sparse matrix\n",
      "     |  \n",
      "     |  trans(...)\n",
      "     |      Returns the matrix transpose\n",
      "     |  \n",
      "     |  ----------------------------------------------------------------------\n",
      "     |  Static methods defined here:\n",
      "     |  \n",
      "     |  __new__(*args, **kwargs) from builtins.type\n",
      "     |      Create and return a new object.  See help(type) for accurate signature.\n",
      "     |  \n",
      "     |  ----------------------------------------------------------------------\n",
      "     |  Data descriptors defined here:\n",
      "     |  \n",
      "     |  CCS\n",
      "     |      CCS representation\n",
      "     |  \n",
      "     |  H\n",
      "     |      conjugate transpose\n",
      "     |  \n",
      "     |  I\n",
      "     |      the I (row) list of the matrix in triplet form\n",
      "     |  \n",
      "     |  J\n",
      "     |      the J (column) list of the matrix in triplet form\n",
      "     |  \n",
      "     |  T\n",
      "     |      transpose\n",
      "     |  \n",
      "     |  V\n",
      "     |      the value list of the matrix in triplet form\n",
      "     |  \n",
      "     |  size\n",
      "     |      matrix dimensions\n",
      "     |  \n",
      "     |  typecode\n",
      "     |      type character\n",
      "     |  \n",
      "     |  ----------------------------------------------------------------------\n",
      "     |  Data and other attributes defined here:\n",
      "     |  \n",
      "     |  __hash__ = None\n",
      "\n",
      "FUNCTIONS\n",
      "    cos(...)\n",
      "        Computes the element-wise cosine of a matrix\n",
      "    \n",
      "    div(*args)\n",
      "        Elementwise division for matrices.\n",
      "        \n",
      "        PURPOSE\n",
      "        div(a1, ..., an) computes the elementwise division for matrices.\n",
      "        The arguments must be matrices of compatible dimensions,  and scalars.  \n",
      "        The elementwise division of a matrix and a scalar is a new matrix \n",
      "        where each element is defined as the division between a matrix element \n",
      "        and the scalar.  \n",
      "        \n",
      "        div(iterable)  where the iterator generates matrices and scalars computes\n",
      "        the elementwise division between the objects in the iterator,  \n",
      "        using the same conventions as div(a1, ..., an).\n",
      "    \n",
      "    exp(...)\n",
      "        Computes the element-wise expontial of a matrix\n",
      "    \n",
      "    getseed()\n",
      "        Returns the seed value for the random number generator.\n",
      "        \n",
      "        getseed()\n",
      "    \n",
      "    log(...)\n",
      "        Computes the element-wise logarithm of a matrix\n",
      "    \n",
      "    max(*args)\n",
      "        Elementwise max for matrices.\n",
      "        \n",
      "        PURPOSE\n",
      "        max(a1, ..., an) computes the elementwise max for matrices.  The arguments\n",
      "        must be matrices of compatible dimensions,  and scalars.  The elementwise\n",
      "        max of a matrix and a scalar is a new matrix where each element is \n",
      "        defined as max of a matrix element and the scalar.\n",
      "        \n",
      "        max(iterable)  where the iterator generates matrices and scalars computes\n",
      "        the elementwise max between the objects in the iterator,  using the\n",
      "        same conventions as max(a1, ..., an).\n",
      "    \n",
      "    min(*args)\n",
      "        Elementwise min for matrices.\n",
      "        \n",
      "        PURPOSE\n",
      "        min(a1, ..., an) computes the elementwise min for matrices.  The arguments\n",
      "        must be matrices of compatible dimensions,  and scalars.  The elementwise\n",
      "        min of a matrix and a scalar is a new matrix where each element is \n",
      "        defined as min of a matrix element and the scalar.\n",
      "        \n",
      "        min(iterable)  where the iterator generates matrices and scalars computes\n",
      "        the elementwise min between the objects in the iterator,  using the\n",
      "        same conventions as min(a1, ..., an).\n",
      "    \n",
      "    mul(*args)\n",
      "        Elementwise multiplication for matrices.\n",
      "        \n",
      "        PURPOSE\n",
      "        mul(a1, ..., an) computes the elementwise multiplication for matrices.\n",
      "        The arguments must be matrices of compatible dimensions,  and scalars.  \n",
      "        The elementwise multiplication of a matrix and a scalar is a new matrix \n",
      "        where each element is \n",
      "        defined as the multiplication of a matrix element and the scalar.\n",
      "        \n",
      "        mul(iterable)  where the iterator generates matrices and scalars computes\n",
      "        the elementwise multiplication between the objects in the iterator,  \n",
      "        using the same conventions as mul(a1, ..., an).\n",
      "    \n",
      "    normal(nrows, ncols=1, mean=0.0, std=1.0)\n",
      "        Randomly generates a matrix with normally distributed entries.\n",
      "        \n",
      "        normal(nrows, ncols=1, mean=0, std=1)\n",
      "        \n",
      "        PURPOSE\n",
      "        Returns a matrix with typecode 'd' and size nrows by ncols, with\n",
      "        its entries randomly generated from a normal distribution with mean\n",
      "        m and standard deviation std.\n",
      "        \n",
      "        ARGUMENTS\n",
      "        nrows     number of rows\n",
      "        \n",
      "        ncols     number of columns\n",
      "        \n",
      "        mean      approximate mean of the distribution\n",
      "        \n",
      "        std       standard deviation of the distribution\n",
      "    \n",
      "    setseed(val=0)\n",
      "        Sets the seed value for the random number generator.\n",
      "        \n",
      "        setseed(val = 0)\n",
      "        \n",
      "        ARGUMENTS\n",
      "        value     integer seed.  If the value is 0, the current system time  \n",
      "                  is used.\n",
      "    \n",
      "    sin(...)\n",
      "        Computes the element-wise sine of a matrix\n",
      "    \n",
      "    sparse(...)\n",
      "        Constructs a sparse block matrix.\n",
      "        \n",
      "        sparse(x, tc = None)\n",
      "        \n",
      "        PURPOSE\n",
      "        Constructs a sparse block matrix from a list of block matrices.  If a\n",
      "        single matrix is given as argument,  then the matrix is converted to\n",
      "        sparse format, optionally with a different typcode.  If a single list\n",
      "        of subblocks is specified, then a block column matrix is created;\n",
      "        otherwise when a list of lists is specified, then the inner lists\n",
      "        specify the different block-columns.  Each block element must be either\n",
      "        a dense or sparse matrix, or a scalar,  and dense matrices are converted\n",
      "        to sparse format by removing 0 elements.\n",
      "        \n",
      "        ARGUMENTS\n",
      "        x       a single matrix, or a list of matrices and scalars, or a list of\n",
      "                lists of matrices and scalars\n",
      "        \n",
      "        tc      typecode character 'd' or 'z'.\n",
      "    \n",
      "    spdiag(...)\n",
      "        Constructs a square block diagonal sparse matrix.\n",
      "        \n",
      "        spdiag(diag)\n",
      "        \n",
      "        ARGUMENTS\n",
      "        diag      a matrix with a single row or column,  or a list of matrices\n",
      "                  and scalars.\n",
      "    \n",
      "    sqrt(...)\n",
      "        Computes the element-wise square-root of a matrix\n",
      "    \n",
      "    uniform(nrows, ncols=1, a=0, b=1)\n",
      "        Randomly generates a matrix with uniformly distributed entries.\n",
      "        \n",
      "        uniform(nrows, ncols=1, a=0, b=1)\n",
      "        \n",
      "        PURPOSE\n",
      "        Returns a matrix with typecode 'd' and size nrows by ncols, with\n",
      "        its entries randomly generated from a uniform distribution on the\n",
      "        interval (a,b).\n",
      "        \n",
      "        ARGUMENTS\n",
      "        nrows     number of rows\n",
      "        \n",
      "        ncols     number of columns\n",
      "        \n",
      "        a         lower bound\n",
      "        \n",
      "        b         upper bound\n",
      "\n",
      "DATA\n",
      "    __all__ = ['blas', 'lapack', 'amd', 'umfpack', 'cholmod', 'solvers', '...\n",
      "    __copyright__ = 'Copyright (c) 2012-2023 M. Andersen and L. Vande...yr...\n",
      "    __license__ = 'This program is free software; you can redistrib...ram....\n",
      "\n",
      "VERSION\n",
      "    1.3.1\n",
      "\n",
      "FILE\n",
      "    /Users/wu/opt/anaconda3/lib/python3.9/site-packages/cvxopt/__init__.py\n",
      "\n",
      "\n"
     ]
    }
   ],
   "source": [
    "import cvxopt\n",
    "help(cvxopt)"
   ]
  },
  {
   "cell_type": "markdown",
   "id": "c2fbe980",
   "metadata": {},
   "source": [
    "Here is an example"
   ]
  },
  {
   "cell_type": "code",
   "execution_count": 5,
   "id": "621dcbf5",
   "metadata": {},
   "outputs": [],
   "source": [
    "from cvxopt.solvers import qp"
   ]
  },
  {
   "cell_type": "markdown",
   "id": "8c070bbb",
   "metadata": {},
   "source": [
    "Minimize $ f(x) = 3x_1^2 + x_2^2 + 2x_1 x_2 + x_1 + 6x_2 + 2 $\n",
    "\n",
    "subject to $2x_1 + 3x_2 \\ge 4$ and $x_1\\ge 0$ and $x_2 \\ge 0$."
   ]
  },
  {
   "cell_type": "markdown",
   "id": "8e6eb3ad",
   "metadata": {},
   "source": [
    "equals to \n",
    "\n",
    "Minimize $ f(\\mathbf x) = \\frac12 \\mathbf x^T P \\mathbf x + \\mathbf q^T \\mathbf x $\n",
    "\n",
    "Minimize $ f(\\mathbf x) = \\frac12 \\mathbf x^T\n",
    "\\begin{bmatrix}\n",
    "6 & 2 \\\\ 2 & 2\n",
    "\\end{bmatrix}\n",
    "\\mathbf x +\n",
    "\\begin{bmatrix}\n",
    "1 & 6 \\\\\n",
    "\\end{bmatrix}\n",
    "\\mathbf x $"
   ]
  },
  {
   "cell_type": "code",
   "execution_count": 44,
   "id": "67cc544a",
   "metadata": {},
   "outputs": [],
   "source": [
    "P = np.array([[6, 2.0],\n",
    "              [2.0, 2.0]])\n",
    "\n",
    "q = np.array([[1.0], \n",
    "              [6.0]])\n",
    "\n",
    "G = np.array([\n",
    "    [-2.0, 3.0],\n",
    "    [-1.0, 0.0],\n",
    "    [0.0, -1.0],\n",
    "])\n",
    "    \n",
    "h = np.array([[4.0], \n",
    "              [0.0], \n",
    "              [0.0]])"
   ]
  },
  {
   "cell_type": "code",
   "execution_count": 47,
   "id": "1a00fd50",
   "metadata": {},
   "outputs": [
    {
     "name": "stdout",
     "output_type": "stream",
     "text": [
      "     pcost       dcost       gap    pres   dres\n",
      " 0: -4.4395e-01  4.3326e+00  1e+01  1e+00  1e+00\n",
      " 1: -5.8268e+00 -3.4321e+00  5e+00  5e-01  6e-01\n",
      " 2:  4.7553e-01 -4.1590e-01  9e-01  1e-16  3e-15\n",
      " 3:  8.2995e-03 -3.8000e-03  1e-02  4e-16  3e-16\n",
      " 4:  8.3268e-05 -3.7789e-05  1e-04  2e-16  3e-16\n",
      " 5:  8.3266e-07 -3.7786e-07  1e-06  1e-16  2e-16\n",
      " 6:  8.3266e-09 -3.7786e-09  1e-08  1e-16  1e-16\n",
      "Optimal solution found.\n"
     ]
    },
    {
     "data": {
      "text/plain": [
       "{'x': <2x1 matrix, tc='d'>,\n",
       " 'y': <0x1 matrix, tc='d'>,\n",
       " 's': <3x1 matrix, tc='d'>,\n",
       " 'z': <3x1 matrix, tc='d'>,\n",
       " 'status': 'optimal',\n",
       " 'gap': 1.2105183813131246e-08,\n",
       " 'relative gap': None,\n",
       " 'primal objective': 8.326574929943946e-09,\n",
       " 'dual objective': -3.77860888318716e-09,\n",
       " 'primal infeasibility': 1.3227889867633178e-16,\n",
       " 'dual infeasibility': 1.460156327451732e-16,\n",
       " 'primal slack': 4.188220861968949e-10,\n",
       " 'dual slack': 9.446522138398993e-10,\n",
       " 'iterations': 6}"
      ]
     },
     "execution_count": 47,
     "metadata": {},
     "output_type": "execute_result"
    }
   ],
   "source": [
    "P_cvx = cvxopt.matrix(P)\n",
    "q_cvx = cvxopt.matrix(q)\n",
    "G_cvx = cvxopt.matrix(G)\n",
    "h_cvx = cvxopt.matrix(h)\n",
    "qp_sol = qp(P_cvx, q_cvx, G_cvx, h_cvx)\n",
    "qp_sol"
   ]
  },
  {
   "cell_type": "code",
   "execution_count": 51,
   "id": "20f92420",
   "metadata": {},
   "outputs": [
    {
     "data": {
      "text/plain": [
       "array([[5.81364238e-09],\n",
       "       [4.18822086e-10]])"
      ]
     },
     "execution_count": 51,
     "metadata": {},
     "output_type": "execute_result"
    }
   ],
   "source": [
    "np.array(qp_sol['x'])"
   ]
  },
  {
   "cell_type": "markdown",
   "id": "d6440d3e",
   "metadata": {},
   "source": [
    "First is the PLA then SVM"
   ]
  },
  {
   "cell_type": "code",
   "execution_count": 11,
   "id": "8ee867fb",
   "metadata": {},
   "outputs": [],
   "source": [
    "def random_target_function():\n",
    "    x0, y0 = 2*np.random.rand()-1, 2*np.random.rand()-1\n",
    "    x1, y1 = 2*np.random.rand()-1, 2*np.random.rand()-1\n",
    "    return lambda X: np.sign(X[:,2] - (y1 - y0)/(x1 - x0)*(X[:,1] - x0) - y0)"
   ]
  },
  {
   "cell_type": "code",
   "execution_count": 25,
   "id": "42533d6a",
   "metadata": {},
   "outputs": [],
   "source": [
    "f = random_target_function()\n",
    "N = 30\n",
    "X = 2*np.random.rand(N, 3) - 1\n",
    "X[:,0] = 1\n",
    "y = f(X)"
   ]
  },
  {
   "cell_type": "code",
   "execution_count": 26,
   "id": "8b8d75e3",
   "metadata": {},
   "outputs": [],
   "source": [
    "def plot_points(X, y):\n",
    "    below = np.where(y < 0)\n",
    "    above = np.where(y > 0)\n",
    "    plt.scatter(X[below,1], X[below,2])\n",
    "    plt.scatter(X[above,1], X[above,2])\n",
    "    plt.legend([\"-1\", \"+1\"])"
   ]
  },
  {
   "cell_type": "markdown",
   "id": "62e488bc",
   "metadata": {},
   "source": [
    "Use sklearn to build PLA"
   ]
  },
  {
   "cell_type": "code",
   "execution_count": 27,
   "id": "03690b8b",
   "metadata": {},
   "outputs": [
    {
     "data": {
      "text/plain": [
       "Perceptron(fit_intercept=False, max_iter=99999)"
      ]
     },
     "execution_count": 27,
     "metadata": {},
     "output_type": "execute_result"
    }
   ],
   "source": [
    "from sklearn.linear_model import Perceptron\n",
    "\n",
    "pla = Perceptron(fit_intercept=False, max_iter=99999)\n",
    "\n",
    "pla.fit(X, y)"
   ]
  },
  {
   "cell_type": "code",
   "execution_count": 29,
   "id": "a825453d",
   "metadata": {},
   "outputs": [
    {
     "data": {
      "image/png": "[encoded data removed]",
      "text/plain": [
       "<Figure size 640x480 with 1 Axes>"
      ]
     },
     "metadata": {},
     "output_type": "display_data"
    }
   ],
   "source": [
    "Nplot = 50\n",
    "xx = np.linspace(-1, 1, Nplot)\n",
    "yy = xx\n",
    "XX, YY = np.meshgrid(xx, yy)\n",
    "Xplot = np.zeros((Nplot**2, 3))\n",
    "Xplot[:,0] = 1\n",
    "Xplot[:,1] = XX.reshape(-1)\n",
    "Xplot[:,2] = YY.reshape(-1)\n",
    "yplot = pla.predict(Xplot)\n",
    "ZZ = yplot.reshape(XX.shape)\n",
    "plt.contourf(XX, YY, ZZ, [-1, 0, 1])\n",
    "plot_points(X, y)\n",
    "plt.show()"
   ]
  },
  {
   "cell_type": "code",
   "execution_count": 86,
   "id": "c3377274",
   "metadata": {},
   "outputs": [],
   "source": [
    "class SVM:\n",
    "    def fit(self, X, y):\n",
    "        P = np.eye(3)\n",
    "        P[0,0] = 0.0\n",
    "        G = -y[:, np.newaxis]*X\n",
    "        h = -np.ones((N,1))\n",
    "        q = np.zeros((3,1))\n",
    "        \n",
    "        P_cvx = cvxopt.matrix(P)\n",
    "        q_cvx = cvxopt.matrix(q)\n",
    "        G_cvx = cvxopt.matrix(G)\n",
    "        h_cvx = cvxopt.matrix(h)\n",
    "        cvxopt.solvers.options['show_progress'] = False\n",
    "        qp_sol = qp(P_cvx, q_cvx, G_cvx, h_cvx)\n",
    "        cvxopt.solvers.options['show_progress'] = True\n",
    "        w = np.array(qp_sol[\"x\"])\n",
    "        self.w = w\n",
    "        \n",
    "    def predict(self, X):\n",
    "        return np.sign(X @ self.w).flatten()\n",
    "    "
   ]
  },
  {
   "cell_type": "code",
   "execution_count": 87,
   "id": "6ccaf137",
   "metadata": {},
   "outputs": [],
   "source": [
    "pla = Perceptron(fit_intercept=False, max_iter=900)\n",
    "svm = SVM()"
   ]
  },
  {
   "cell_type": "code",
   "execution_count": 88,
   "id": "65969d70",
   "metadata": {},
   "outputs": [
    {
     "name": "stdout",
     "output_type": "stream",
     "text": [
      "SVM percent wins:  0.0\n",
      "SVM percent wins:  0.7395833333333334\n",
      "SVM percent wins:  0.7230769230769231\n",
      "SVM percent wins:  0.6840277777777778\n",
      "SVM percent wins:  0.694300518134715\n",
      "SVM percent wins:  0.6923076923076923\n",
      "SVM percent wins:  0.6897746967071057\n",
      "SVM percent wins:  0.68\n",
      "SVM percent wins:  0.685640362225097\n",
      "SVM percent wins:  0.6874279123414071\n"
     ]
    },
    {
     "data": {
      "image/png": "[encoded data removed]",
      "text/plain": [
       "<Figure size 640x480 with 1 Axes>"
      ]
     },
     "metadata": {},
     "output_type": "display_data"
    }
   ],
   "source": [
    "pla_wins = 0\n",
    "svm_wins = 0\n",
    "total = 0\n",
    "\n",
    "for i in range(1000):\n",
    "    # Create training dataset\n",
    "    f = random_target_function()\n",
    "    X = 2*np.random.rand(N, 3) - 1\n",
    "    X[:,0] = 1\n",
    "    y = f(X)\n",
    "    if np.all(y == y[0]):\n",
    "        continue\n",
    "    \n",
    "    # Create testing dataset\n",
    "    X_test = 2*np.random.rand(1000, 3) - 1\n",
    "    X_test[:,0] = 1\n",
    "    y_test = f(X_test)\n",
    "    \n",
    "    pla.fit(X, y)\n",
    "    e_pla = np.sum(pla.predict(X_test) != y_test)\n",
    "    \n",
    "    # Solve with SVM\n",
    "    svm.fit(X, y)\n",
    "    e_svm = np.sum(svm.predict(X_test) != y_test)\n",
    "    \n",
    "    if e_svm > e_pla:\n",
    "        pla_wins += 1\n",
    "        total += 1\n",
    "    if e_pla > e_svm:\n",
    "        svm_wins += 1\n",
    "        total += 1\n",
    "        \n",
    "    if i % 100 == 0 and total > 0:\n",
    "        print (\"SVM percent wins: \", svm_wins/total)\n",
    "Nplot = 50\n",
    "xx = np.linspace(-1, 1, Nplot)\n",
    "yy = xx\n",
    "XX, YY = np.meshgrid(xx, yy)\n",
    "Xplot = np.zeros((Nplot**2, 3))\n",
    "Xplot[:,0] = 1\n",
    "Xplot[:,1] = XX.reshape(-1)\n",
    "Xplot[:,2] = YY.reshape(-1)\n",
    "yplot = Xplot @ svm.w\n",
    "ZZ = yplot.reshape(XX.shape)\n",
    "plt.contourf(XX, YY, ZZ, [-1, 0, 1])\n",
    "plot_points(X, y)\n",
    "plt.show()"
   ]
  },
  {
   "cell_type": "markdown",
   "id": "3b810546",
   "metadata": {},
   "source": [
    "About 60 percentage of time SVM wins."
   ]
  },
  {
   "cell_type": "code",
   "execution_count": 89,
   "id": "175f0278",
   "metadata": {},
   "outputs": [
    {
     "name": "stdout",
     "output_type": "stream",
     "text": [
      "SVM percent wins:  1.0\n",
      "mean vecs: 3.0\n",
      "SVM percent wins:  0.7676767676767676\n",
      "mean vecs: 3.0\n",
      "SVM percent wins:  0.7783505154639175\n",
      "mean vecs: 2.9950248756218905\n",
      "SVM percent wins:  0.7773972602739726\n",
      "mean vecs: 2.993355481727575\n",
      "SVM percent wins:  0.7712082262210797\n",
      "mean vecs: 2.9950124688279303\n",
      "SVM percent wins:  0.7839506172839507\n",
      "mean vecs: 2.9940119760479043\n",
      "SVM percent wins:  0.7710843373493976\n",
      "mean vecs: 2.995008319467554\n",
      "SVM percent wins:  0.7764705882352941\n",
      "mean vecs: 2.9957203994293864\n",
      "SVM percent wins:  0.7747747747747747\n",
      "mean vecs: 2.9962546816479403\n",
      "SVM percent wins:  0.7860411899313501\n",
      "mean vecs: 2.9966703662597114\n"
     ]
    },
    {
     "data": {
      "image/png": "[encoded data removed]",
      "text/plain": [
       "<Figure size 640x480 with 1 Axes>"
      ]
     },
     "metadata": {},
     "output_type": "display_data"
    }
   ],
   "source": [
    "N = 100\n",
    "\n",
    "pla = Perceptron(fit_intercept=False, max_iter=900)\n",
    "svm = SVM()\n",
    "\n",
    "pla_wins = 0\n",
    "svm_wins = 0\n",
    "total = 0\n",
    "\n",
    "num_support_vectors = []\n",
    "\n",
    "for i in range(1000):\n",
    "    # Create training dataset\n",
    "    f = random_target_function()\n",
    "    X = 2*np.random.rand(N, 3) - 1\n",
    "    X[:,0] = 1\n",
    "    y = f(X)\n",
    "    if np.all(y == y[0]):\n",
    "        continue\n",
    "    \n",
    "    # Create testing dataset\n",
    "    X_test = 2*np.random.rand(1000, 3) - 1\n",
    "    X_test[:,0] = 1\n",
    "    y_test = f(X_test)\n",
    "\n",
    "    \n",
    "    # Solve with PLA\n",
    "    pla.fit(X, y)\n",
    "    e_pla = np.sum(pla.predict(X_test) != y_test)\n",
    "    \n",
    "    # Solve with SVM\n",
    "    svm.fit(X, y)\n",
    "    nvecs = np.sum(np.abs(X @ svm.w).flatten() <= 1.001)\n",
    "    num_support_vectors.append(nvecs)\n",
    "    e_svm = np.sum(svm.predict(X_test) != y_test)\n",
    "    \n",
    "    if e_svm > e_pla:\n",
    "        pla_wins += 1\n",
    "        total += 1\n",
    "    if e_pla > e_svm:\n",
    "        svm_wins += 1\n",
    "        total += 1\n",
    "        \n",
    "    if i % 100 == 0 and total > 0:\n",
    "        print (\"SVM percent wins: \", svm_wins/total)\n",
    "        print(\"mean vecs:\", np.mean(num_support_vectors))\n",
    "\n",
    "    \n",
    "Nplot = 50\n",
    "xx = np.linspace(-1, 1, Nplot)\n",
    "yy = xx\n",
    "XX, YY = np.meshgrid(xx, yy)\n",
    "Xplot = np.zeros((Nplot**2, 3))\n",
    "Xplot[:,0] = 1\n",
    "Xplot[:,1] = XX.reshape(-1)\n",
    "Xplot[:,2] = YY.reshape(-1)\n",
    "yplot = Xplot @ svm.w\n",
    "ZZ = yplot.reshape(XX.shape)\n",
    "plt.contourf(XX, YY, ZZ, [-1, 0, 1])\n",
    "plot_points(X, y)\n",
    "plt.show()"
   ]
  },
  {
   "cell_type": "markdown",
   "id": "c99bfc88",
   "metadata": {},
   "source": [
    "When N = 100 bout 70 percentage of time SVM wins."
   ]
  },
  {
   "cell_type": "markdown",
   "id": "3afefc90",
   "metadata": {},
   "source": [
    "Intuitively, the number of support vectors should always be 3 for real random numbers in 2D, given infinite numerical precision."
   ]
  },
  {
   "cell_type": "code",
   "execution_count": null,
   "id": "adc37a78",
   "metadata": {},
   "outputs": [],
   "source": []
  }
 ],
 "metadata": {
  "kernelspec": {
   "display_name": "Python 3 (ipykernel)",
   "language": "python",
   "name": "python3"
  },
  "language_info": {
   "codemirror_mode": {
    "name": "ipython",
    "version": 3
   },
   "file_extension": ".py",
   "mimetype": "text/x-python",
   "name": "python",
   "nbconvert_exporter": "python",
   "pygments_lexer": "ipython3",
   "version": "3.9.13"
  }
 },
 "nbformat": 4,
 "nbformat_minor": 5
}
