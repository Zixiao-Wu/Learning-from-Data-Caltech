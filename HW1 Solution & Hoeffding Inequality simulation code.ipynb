{
 "cells": [
  {
   "cell_type": "markdown",
   "id": "9058f0d0",
   "metadata": {},
   "source": [
    "# Learning From Data Homework 1\n",
    "\n",
    "https://work.caltech.edu/homework/hw1.pdf"
   ]
  },
  {
   "cell_type": "markdown",
   "id": "a168fe90",
   "metadata": {},
   "source": [
    "## 1\n",
    "d, (i) is not learning"
   ]
  },
  {
   "cell_type": "markdown",
   "id": "60a0f5f5",
   "metadata": {},
   "source": [
    "## 2\n",
    "a"
   ]
  },
  {
   "cell_type": "markdown",
   "id": "7f6858e7",
   "metadata": {},
   "source": [
    "## 3\n",
    "d"
   ]
  },
  {
   "cell_type": "markdown",
   "id": "dcd4f249",
   "metadata": {},
   "source": [
    "## 4\n",
    "Answer is b"
   ]
  },
  {
   "cell_type": "code",
   "execution_count": 10,
   "id": "9e1689c5",
   "metadata": {},
   "outputs": [
    {
     "data": {
      "text/plain": [
       "0.0003405062891601559"
      ]
     },
     "execution_count": 10,
     "metadata": {},
     "output_type": "execute_result"
    }
   ],
   "source": [
    "p = (1 - 0.55)**10\n",
    "p"
   ]
  },
  {
   "cell_type": "markdown",
   "id": "556e4adc",
   "metadata": {},
   "source": [
    "## 5\n",
    "Answer is c"
   ]
  },
  {
   "cell_type": "code",
   "execution_count": 11,
   "id": "f53190bb",
   "metadata": {},
   "outputs": [
    {
     "data": {
      "text/plain": [
       "0.28863119784980995"
      ]
     },
     "execution_count": 11,
     "metadata": {},
     "output_type": "execute_result"
    }
   ],
   "source": [
    "1 - (1 - p)**1000"
   ]
  },
  {
   "cell_type": "markdown",
   "id": "d2f6da68",
   "metadata": {},
   "source": [
    "## 6\n",
    "answer is e, the scores are the same."
   ]
  },
  {
   "cell_type": "code",
   "execution_count": 12,
   "id": "1d5cf450",
   "metadata": {},
   "outputs": [],
   "source": [
    "def bk_funcs():\n",
    "    for i in range(256):\n",
    "        yield [int(b) for b in \"{:08b}\".format(i)]"
   ]
  },
  {
   "cell_type": "code",
   "execution_count": 13,
   "id": "744a5005",
   "metadata": {},
   "outputs": [
    {
     "name": "stdout",
     "output_type": "stream",
     "text": [
      "12\n",
      "12\n",
      "12\n",
      "12\n"
     ]
    }
   ],
   "source": [
    "score_a = 0\n",
    "score_b = 0\n",
    "score_c = 0\n",
    "score_d = 0\n",
    "\n",
    "for f in bk_funcs():\n",
    "    # Known data\n",
    "    if f[0] != 0:\n",
    "        continue\n",
    "    if f[1] != 1:\n",
    "        continue\n",
    "    if f[2] != 1:\n",
    "        continue\n",
    "    if f[3] != 0:\n",
    "        continue\n",
    "    if f[4] != 1:\n",
    "        continue\n",
    "        \n",
    "    score_a += int(f[5] == 1) + int(f[6] == 1) + int(f[7] == 1)\n",
    "    score_b += int(f[5] == 0) + int(f[6] == 0) + int(f[7] == 0)\n",
    "    score_c += int(f[5] == 0) + int(f[6] == 0) + int(f[7] == 1)\n",
    "    score_d += int(f[5] == 1) + int(f[6] == 1) + int(f[7] == 0)\n",
    "\n",
    "print(score_a)\n",
    "print(score_b)\n",
    "print(score_c)\n",
    "print(score_d)"
   ]
  },
  {
   "cell_type": "markdown",
   "id": "b11fb5e5",
   "metadata": {},
   "source": [
    "## 7  Perceptron Learning Algorithm"
   ]
  },
  {
   "cell_type": "code",
   "execution_count": 14,
   "id": "7ec733e0",
   "metadata": {},
   "outputs": [],
   "source": [
    "import random\n",
    "import matplotlib.pyplot as plt\n",
    "import numpy as np"
   ]
  },
  {
   "cell_type": "code",
   "execution_count": 15,
   "id": "b9047382",
   "metadata": {},
   "outputs": [],
   "source": [
    "def random_point():\n",
    "    x0, y0 = random.uniform(-1, 1), random.uniform(-1, 1)\n",
    "    return (x0, y0)\n",
    "\n",
    "class Dataset:\n",
    "    \n",
    "    def __init__(self, num_points):\n",
    "        p0 = random_point()\n",
    "        p1 = random_point()\n",
    "        self.line_a = (p1[1] - p0[1]) / (p1[0] - p0[0])\n",
    "        self.line_b = p0[1] - self.line_a * p0[0]\n",
    "        self.xs = []\n",
    "        self.ys = []\n",
    "        for i in range(num_points):\n",
    "            xn = random_point()\n",
    "            self.xs.append(xn)\n",
    "            self.ys.append(self.target_func(xn))\n",
    "        \n",
    "    def target_func(self, p):\n",
    "        if self.line_a*p[0] + self.line_b > p[1]:\n",
    "            return -1\n",
    "        else:\n",
    "            return 1"
   ]
  },
  {
   "cell_type": "code",
   "execution_count": 17,
   "id": "57fa2cf2",
   "metadata": {},
   "outputs": [],
   "source": [
    "#plot\n",
    "# def plot(self):\n",
    "#     cs = [\"red\" if y > 0 else \"blue\" for y in self.ys]\n",
    "#     plt.scatter([x[0] for x in self.xs], [x[1] for x in self.xs], c=cs)\n",
    "#     plt.plot((-1, 1), (-self.target_a+self.target_b, self.target_a+self.target_b))\n",
    "#     plt.gca().set_aspect(1)\n",
    "#     plt.xlim([-1, 1])\n",
    "#     plt.ylim([-1, 1])\n",
    "#     plt.title(\"Target function\")\n",
    "#     plt.show()"
   ]
  },
  {
   "cell_type": "code",
   "execution_count": 18,
   "id": "f5ccc006",
   "metadata": {},
   "outputs": [],
   "source": [
    "class PLA:\n",
    "    \n",
    "    def __init__(self, dataset):\n",
    "        self.w = np.array([0, 0, 0])\n",
    "        self.dataset = dataset\n",
    "    \n",
    "    def candidate_func(self, p):\n",
    "        return int(np.sign(self.w[0]*1 + self.w[1]*p[0] + self.w[2]*p[1]))\n",
    "        \n",
    "    def fit(self, plot_iters=False):\n",
    "        self.w = np.array([0, 0, 0])\n",
    "        num_iters = 0\n",
    "        \n",
    "        while True:\n",
    "            misclassified_points = []\n",
    "            for (x, y) in zip(self.dataset.xs, self.dataset.ys):\n",
    "                if self.candidate_func(x) != y:\n",
    "                    misclassified_points.append((np.array([1, x[0], x[1]]), y))\n",
    "            if len(misclassified_points) > 0:\n",
    "                num_iters += 1\n",
    "                x, y = random.choice(misclassified_points)\n",
    "                self.w = self.w + y*x\n",
    "                if plot_iters:\n",
    "                    self.plot()\n",
    "            else:\n",
    "                return num_iters\n",
    "        \n",
    "    def plot(self):\n",
    "        cs = [\"red\" if y > 0 else \"blue\" for y in self.dataset.ys]\n",
    "        plt.scatter([x[0] for x in self.dataset.xs], [x[1] for x in self.dataset.xs], c=cs)\n",
    "        y_left = (self.w[1] - self.w[0]) / self.w[2]\n",
    "        y_right = (-self.w[1] - self.w[0]) / self.w[2]\n",
    "        plt.plot((-1,1), (y_left, y_right))\n",
    "        plt.gca().set_aspect(1)\n",
    "        plt.xlim([-1, 1])\n",
    "        plt.ylim([-1, 1])\n",
    "        plt.title(\"Candidate function found with PLA\")\n",
    "        plt.show()"
   ]
  },
  {
   "cell_type": "markdown",
   "id": "fae95823",
   "metadata": {},
   "source": [
    "Take N ==10"
   ]
  },
  {
   "cell_type": "code",
   "execution_count": 22,
   "id": "4d8f7dc0",
   "metadata": {},
   "outputs": [],
   "source": [
    "class PerceptronClassifier:\n",
    "    def __init__(self, num_points):\n",
    "        self.num_points = num_points\n",
    "        self.num_iters = []\n",
    "        self.n_correct_classified = 0\n",
    "        self.n_wrong_classified = 0\n",
    "    \n",
    "    def fit(self):\n",
    "        for i in range(1000):\n",
    "            ds = Dataset(num_points=self.num_points)\n",
    "            pla = PLA(dataset=ds)\n",
    "            self.num_iters.append(pla.fit())\n",
    "            for j in range(1000):\n",
    "                p = random_point()\n",
    "                if ds.target_func(p) == pla.candidate_func(p):\n",
    "                    self.n_correct_classified += 1\n",
    "                else:\n",
    "                    self.n_wrong_classified += 1\n",
    "    \n",
    "    def print_results(self):\n",
    "        mean_iters = np.mean(self.num_iters)\n",
    "        wrong_classification = float(self.n_wrong_classified) / (self.n_correct_classified + self.n_wrong_classified)\n",
    "        print(\"Mean iters:\", mean_iters)\n",
    "        print(\"P(wrong classification):\", wrong_classification)"
   ]
  },
  {
   "cell_type": "code",
   "execution_count": 23,
   "id": "ac8b9e1c",
   "metadata": {},
   "outputs": [],
   "source": [
    "# num_iters = []\n",
    "# n_correct_classified = 0\n",
    "# n_wrong_classified = 0\n",
    "# for i in range(1000):\n",
    "#     ds = Dataset(num_points=10)\n",
    "#     pla = PLA(dataset=ds)\n",
    "#     num_iters.append(pla.fit())\n",
    "#     for j in range(10):\n",
    "#         p = random_point()\n",
    "#         if ds.target_func(p) == pla.candidate_func(p):\n",
    "#             n_correct_classified += 1\n",
    "#         else:\n",
    "#             n_wrong_classified += 1\n",
    "\n",
    "# print(\"Mean iters:\", np.mean(num_iters))\n",
    "\n",
    "# print(\"P(wrong classification)\", float(n_wrong_classified)/(n_correct_classified+n_wrong_classified))"
   ]
  },
  {
   "cell_type": "code",
   "execution_count": 25,
   "id": "ed35a243",
   "metadata": {},
   "outputs": [
    {
     "name": "stdout",
     "output_type": "stream",
     "text": [
      "Mean iters: 10.393\n",
      "P(wrong classification): 0.110452\n"
     ]
    }
   ],
   "source": [
    "class10 = PerceptronClassifier(num_points=10)\n",
    "class10.fit()\n",
    "class10.print_results()"
   ]
  },
  {
   "cell_type": "markdown",
   "id": "2bd6a90a",
   "metadata": {},
   "source": [
    "When N==10, mean iters is 9.09, near 10, and P is 10%, so 7 is b, and 8 is c."
   ]
  },
  {
   "cell_type": "code",
   "execution_count": 26,
   "id": "592f4924",
   "metadata": {},
   "outputs": [
    {
     "name": "stdout",
     "output_type": "stream",
     "text": [
      "Mean iters: 107.136\n",
      "P(wrong classification): 0.013369\n"
     ]
    }
   ],
   "source": [
    "class100 = PerceptronClassifier(num_points=100)\n",
    "class100.fit()\n",
    "class100.print_results()"
   ]
  },
  {
   "cell_type": "markdown",
   "id": "b18bafe9",
   "metadata": {},
   "source": [
    "So 9 is b, 100, and 10 is b, 1%"
   ]
  },
  {
   "cell_type": "code",
   "execution_count": null,
   "id": "fa950b23",
   "metadata": {},
   "outputs": [],
   "source": []
  }
 ],
 "metadata": {
  "kernelspec": {
   "display_name": "Python 3 (ipykernel)",
   "language": "python",
   "name": "python3"
  },
  "language_info": {
   "codemirror_mode": {
    "name": "ipython",
    "version": 3
   },
   "file_extension": ".py",
   "mimetype": "text/x-python",
   "name": "python",
   "nbconvert_exporter": "python",
   "pygments_lexer": "ipython3",
   "version": "3.9.13"
  }
 },
 "nbformat": 4,
 "nbformat_minor": 5
}
